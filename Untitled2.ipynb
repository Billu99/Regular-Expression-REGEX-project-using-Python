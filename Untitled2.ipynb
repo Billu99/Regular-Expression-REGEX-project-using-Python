{
 "cells": [
  {
   "cell_type": "code",
   "execution_count": 3,
   "id": "9eb9ab3a",
   "metadata": {},
   "outputs": [],
   "source": [
    "import re"
   ]
  },
  {
   "cell_type": "code",
   "execution_count": 5,
   "id": "9f835680",
   "metadata": {},
   "outputs": [
    {
     "data": {
      "text/plain": [
       "['6325132365', '4584216589', '(999)-565-8585']"
      ]
     },
     "execution_count": 5,
     "metadata": {},
     "output_type": "execute_result"
    }
   ],
   "source": [
    "##Fetch Phone Number from the text using Regular Expression (REGEX)\n",
    "text = \"your waight is 50 and phone number is 6325132365 and my weight is 56 and phone number is 4584216589 and A USA friend phn number is (999)-565-8585\"\n",
    "pattern = \"\\(\\d{3}\\)-\\d{3}-\\d{4}|\\d{10}\"\n",
    "matches = re.findall(pattern,text)\n",
    "matches"
   ]
  },
  {
   "cell_type": "code",
   "execution_count": 6,
   "id": "e7c1b2c5",
   "metadata": {},
   "outputs": [
    {
     "data": {
      "text/plain": [
       "['2021 Q1', '2020 Q4']"
      ]
     },
     "execution_count": 6,
     "metadata": {},
     "output_type": "execute_result"
    }
   ],
   "source": [
    "##Fetch Financial year and quarter from the text using Regular Expression (REGEX)\n",
    "text = \"the gross cost of operating lease vehicles in FY2021 Q1 was $4.85 billon. in previous quarter i.e FY2020 Q4 it was $3 billon\"\n",
    "pattern = \"FY(\\d{4} Q[1234])\"\n",
    "matche = re.findall(pattern, text)\n",
    "matche"
   ]
  },
  {
   "cell_type": "code",
   "execution_count": 8,
   "id": "7261ea48",
   "metadata": {},
   "outputs": [
    {
     "data": {
      "text/plain": [
       "['4.85', '3']"
      ]
     },
     "execution_count": 8,
     "metadata": {},
     "output_type": "execute_result"
    }
   ],
   "source": [
    "##Fetch Cost number from the text using Regular Expression (REGEX)\n",
    "text = \"the gross cost of operating lease vehicles in FY2021 Q1 was $4.85 billon. in previous quarter i.e FY2020 Q4 it was $3 billon. Total employees are 5400\"\n",
    "pattern = \"\\$([\\d\\.]*)\"\n",
    "matches = re.findall(pattern, text)\n",
    "matches"
   ]
  },
  {
   "cell_type": "code",
   "execution_count": 9,
   "id": "f6194c57",
   "metadata": {},
   "outputs": [
    {
     "data": {
      "text/plain": [
       "[('FY2021 Q1', '$4.85'), ('FY2020 Q4', '$3')]"
      ]
     },
     "execution_count": 9,
     "metadata": {},
     "output_type": "execute_result"
    }
   ],
   "source": [
    "##Fetch both financial year and cost from the text using Regular Expression (REGEX)\n",
    "text = \"the gross cost of operating lease vehicles in FY2021 Q1 was $4.85 billon. in previous quarter i.e FY2020 Q4 it was $3 billon. Total employees are 5400\"\n",
    "pattern = \"(FY\\d{4} Q[1234]) [^\\$]*(\\$[\\d\\.]+)\"\n",
    "matches = re.findall(pattern, text)\n",
    "matches"
   ]
  },
  {
   "cell_type": "code",
   "execution_count": 10,
   "id": "2e5a20a2",
   "metadata": {},
   "outputs": [
    {
     "data": {
      "text/plain": [
       "<re.Match object; span=(46, 65), match='FY2021 Q1 was $4.85'>"
      ]
     },
     "execution_count": 10,
     "metadata": {},
     "output_type": "execute_result"
    }
   ],
   "source": [
    "text = \"the gross cost of operating lease vehicles in FY2021 Q1 was $4.85 billon. in previous quarter i.e FY2020 Q4 it was $3 billon. Total employees are 5400\"\n",
    "pattern = \"(FY\\d{4} Q[1234]) [^\\$]*(\\$[\\d\\.]+)\"\n",
    "matches = re.search(pattern, text)\n",
    "matches"
   ]
  },
  {
   "cell_type": "code",
   "execution_count": 11,
   "id": "32cc5ec7",
   "metadata": {},
   "outputs": [
    {
     "data": {
      "text/plain": [
       "'FY2021 Q1 was $4.85'"
      ]
     },
     "execution_count": 11,
     "metadata": {},
     "output_type": "execute_result"
    }
   ],
   "source": [
    "matches.group()"
   ]
  },
  {
   "cell_type": "code",
   "execution_count": null,
   "id": "a453e19a",
   "metadata": {},
   "outputs": [],
   "source": []
  }
 ],
 "metadata": {
  "kernelspec": {
   "display_name": "Python 3 (ipykernel)",
   "language": "python",
   "name": "python3"
  },
  "language_info": {
   "codemirror_mode": {
    "name": "ipython",
    "version": 3
   },
   "file_extension": ".py",
   "mimetype": "text/x-python",
   "name": "python",
   "nbconvert_exporter": "python",
   "pygments_lexer": "ipython3",
   "version": "3.9.13"
  }
 },
 "nbformat": 4,
 "nbformat_minor": 5
}
